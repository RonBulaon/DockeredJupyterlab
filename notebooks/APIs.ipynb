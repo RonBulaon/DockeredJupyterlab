{
 "cells": [
  {
   "cell_type": "code",
   "execution_count": 1,
   "id": "signed-extra",
   "metadata": {},
   "outputs": [],
   "source": [
    "import requests\n",
    "import json\n",
    "\n",
    "API = 'l8xxb1a2c28b8602486599d67cd2c515dd58' "
   ]
  },
  {
   "cell_type": "code",
   "execution_count": 2,
   "id": "solid-manhattan",
   "metadata": {},
   "outputs": [],
   "source": [
    "def pullInfo(query):\n",
    "    response = requests.get(query, headers={\"accept\":\"application/json\"})\n",
    "    if response.status_code == 200:\n",
    "        return response.text\n",
    "    else:\n",
    "        return response.status_code"
   ]
  },
  {
   "cell_type": "code",
   "execution_count": 3,
   "id": "composite-exclusive",
   "metadata": {},
   "outputs": [],
   "source": [
    "def getAvailability(mms_id, holding_id, itemPID,API):\n",
    "    query = 'https://api-ap.hosted.exlibrisgroup.com/almaws/v1/bibs/'+mms_id+'/holdings/'+holding_id+'/items/'+itemPID+'/booking-availability?period=1&period_type=days&user_id_type=all_unique&apikey='+API\n",
    "    return pullInfo(query)\n",
    "\n",
    "def getResourceDetails(barcode, API):\n",
    "    query = 'https://api-ap.hosted.exlibrisgroup.com/almaws/v1/items?item_barcode='+barcode+'&apikey='+API\n",
    "    data = json.loads(pullInfo(query))\n",
    "    \n",
    "    title = data[\"bib_data\"][\"title\"]\n",
    "    author = data[\"bib_data\"][\"author\"]\n",
    "    call_number = data[\"holding_data\"][\"call_number\"]\n",
    "    isbn = data[\"bib_data\"][\"isbn\"]\n",
    "    complete_edition = data[\"bib_data\"][\"complete_edition\"]\n",
    "    mms_id = data[\"bib_data\"][\"mms_id\"]\n",
    "    holding_id = data[\"holding_data\"][\"holding_id\"]\n",
    "    item_pid = data[\"item_data\"][\"pid\"]\n",
    "    \n",
    "    data2 = json.loads(getAvailability(mms_id, holding_id, item_pid,API))\n",
    "    print\n",
    "    if data2['booking_availability'] == 'null':\n",
    "        booking_availability = 1\n",
    "    else :\n",
    "        booking_availability = 0\n",
    "        \n",
    "    return {'title':title,'author':author,'call_number':call_number,'isbn':isbn,'complete_edition':complete_edition,'mms_id':mms_id,'holding_id':holding_id,'item_pid':item_pid,'booking_availability':booking_availability}\n"
   ]
  },
  {
   "cell_type": "code",
   "execution_count": 4,
   "id": "large-trout",
   "metadata": {},
   "outputs": [
    {
     "data": {
      "text/plain": [
       "{'title': 'Atomic habits : tiny changes, remarkable results : an easy & proven way to build good habits & break bad ones /',\n",
       " 'author': 'Clear, James,',\n",
       " 'call_number': 'BF335 .C44 2018',\n",
       " 'isbn': '1847941834',\n",
       " 'complete_edition': '',\n",
       " 'mms_id': '99281311402601',\n",
       " 'holding_id': '2285509460002601',\n",
       " 'item_pid': '2385509450002601',\n",
       " 'booking_availability': 0}"
      ]
     },
     "execution_count": 4,
     "metadata": {},
     "output_type": "execute_result"
    }
   ],
   "source": [
    "getResourceDetails('U00078817I', API)"
   ]
  },
  {
   "cell_type": "code",
   "execution_count": 11,
   "id": "therapeutic-violation",
   "metadata": {},
   "outputs": [],
   "source": [
    "def getLoans(patronID,API):\n",
    "    query = 'https://api-ap.hosted.exlibrisgroup.com/almaws/v1/users/'+patronID+'/loans?user_id_type=all_unique&limit=10&offset=0&order_by=id&direction=ASC&apikey='+API\n",
    "    return pullInfo(query)\n",
    "\n",
    "def getFines(patronID,API):\n",
    "    query = 'https://api-ap.hosted.exlibrisgroup.com/almaws/v1/users/'+patronID+'/fees?user_id_type=all_unique&status=ACTIVE&apikey='+API\n",
    "    return pullInfo(query)\n",
    "\n",
    "def getPatronDetails(patronID,API):\n",
    "    query = 'https://api-ap.hosted.exlibrisgroup.com/almaws/v1/users/'+patronID+'?user_id_type=all_unique&view=full&expand=none&apikey='+API\n",
    "    return pullInfo(query)\n",
    "\n",
    "def patronDetails(patronID):\n",
    "    getFines(patronID,API)\n",
    "    getPatronDetails(patronID,API)\n",
    "\n"
   ]
  },
  {
   "cell_type": "code",
   "execution_count": 6,
   "id": "critical-major",
   "metadata": {},
   "outputs": [
    {
     "data": {
      "text/plain": [
       "'{\"record_type\":{\"value\":\"PUBLIC\",\"desc\":\"Public\"},\"primary_id\":\"STF_2525\",\"first_name\":\" \",\"middle_name\":\"\",\"last_name\":\"Rey Ronald BULAON\",\"full_name\":\"  Rey Ronald BULAON\",\"user_title\":{\"value\":\"\",\"desc\":\"\"},\"job_category\":{\"value\":\"\",\"desc\":\"\"},\"job_description\":\"\",\"gender\":{\"value\":\"\",\"desc\":\"\"},\"user_group\":{\"value\":\"LIBSTF\",\"desc\":\"LIBRARY STAFF\"},\"campus_code\":{\"value\":null,\"desc\":\"\"},\"web_site_url\":\"\",\"cataloger_level\":{\"value\":\"00\",\"desc\":\"[00] Default Level\"},\"preferred_language\":{\"value\":\"en\",\"desc\":\"English\"},\"account_type\":{\"value\":\"EXTERNAL\",\"desc\":\"External\"},\"external_id\":\"SMU_UDI_ACTIVE\",\"password\":\"\",\"force_password_change\":\"\",\"status\":{\"value\":\"ACTIVE\",\"desc\":\"Active\"},\"status_date\":\"2021-02-02Z\",\"last_patron_activity_date\":\"2020-09-04Z\",\"requests\":null,\"loans\":null,\"fees\":null,\"contact_info\":{\"address\":[],\"email\":[{\"email_address\":\"ronbulaon@smu.edu.sg\",\"description\":null,\"preferred\":true,\"segment_type\":\"External\",\"email_type\":[{\"value\":\"work\",\"desc\":\"Work\"}]}],\"phone\":[]},\"pref_first_name\":\"\",\"pref_middle_name\":\"\",\"pref_last_name\":\"\",\"pref_name_suffix\":\"\",\"is_researcher\":false,\"researcher\":null,\"link\":null,\"user_identifier\":[{\"value\":\"50000954\",\"id_type\":{\"value\":\"BARCODE\",\"desc\":\"Barcode\"},\"note\":null,\"status\":\"ACTIVE\",\"segment_type\":\"External\"},{\"value\":\"ronbulaon@smu.edu.sg\",\"id_type\":{\"value\":\"SSO_ID\",\"desc\":\"SSO ID\"},\"note\":null,\"status\":\"ACTIVE\",\"segment_type\":\"External\"}],\"user_role\":[{\"status\":{\"value\":\"ACTIVE\",\"desc\":\"Active\"},\"scope\":{\"value\":\"KGC\",\"desc\":\"Kwa Geok Choo Law Library\"},\"role_type\":{\"value\":\"221\",\"desc\":\"Circulation Desk Manager\"},\"parameter\":[{\"type\":{\"value\":\"CirculationDesk\",\"desc\":null},\"scope\":{\"value\":\"KGC\",\"desc\":\"Kwa Geok Choo Law Library\"},\"value\":{\"value\":\"KGC_DESK\",\"desc\":\"Service Desk\"}}]},{\"status\":{\"value\":\"ACTIVE\",\"desc\":\"Active\"},\"scope\":{\"value\":\"KGC\",\"desc\":\"Kwa Geok Choo Law Library\"},\"role_type\":{\"value\":\"51\",\"desc\":\"Requests Operator\"},\"parameter\":[{\"type\":{\"value\":\"CirculationDesk\",\"desc\":null},\"scope\":{\"value\":\"KGC\",\"desc\":\"Kwa Geok Choo Law Library\"},\"value\":{\"value\":\"KGC_DESK\",\"desc\":\"Service Desk\"}}]},{\"status\":{\"value\":\"ACTIVE\",\"desc\":\"Active\"},\"scope\":{\"value\":\"65SMU_INST\",\"desc\":\"Singapore Management University (SMU)\"},\"role_type\":{\"value\":\"300\",\"desc\":\"Discovery - Admin\"},\"parameter\":[]},{\"status\":{\"value\":\"ACTIVE\",\"desc\":\"Active\"},\"scope\":{\"value\":\"MAIN\",\"desc\":\"Li Ka Shing Library\"},\"role_type\":{\"value\":\"221\",\"desc\":\"Circulation Desk Manager\"},\"parameter\":[{\"type\":{\"value\":\"CirculationDesk\",\"desc\":null},\"scope\":{\"value\":\"MAIN\",\"desc\":\"Li Ka Shing Library\"},\"value\":{\"value\":\"DEFAULT_CIRC_DESK\",\"desc\":\"Service Desk\"}}]},{\"status\":{\"value\":\"ACTIVE\",\"desc\":\"Active\"},\"scope\":{\"value\":\"65SMU_INST\",\"desc\":\"Singapore Management University (SMU)\"},\"role_type\":{\"value\":\"215\",\"desc\":\"Fulfillment Services Manager\"},\"parameter\":[]},{\"status\":{\"value\":\"ACTIVE\",\"desc\":\"Active\"},\"scope\":{\"value\":\"MAIN\",\"desc\":\"Li Ka Shing Library\"},\"role_type\":{\"value\":\"51\",\"desc\":\"Requests Operator\"},\"parameter\":[{\"type\":{\"value\":\"CirculationDesk\",\"desc\":null},\"scope\":{\"value\":\"MAIN\",\"desc\":\"Li Ka Shing Library\"},\"value\":{\"value\":\"DEFAULT_CIRC_DESK\",\"desc\":\"Service Desk\"}}]},{\"status\":{\"value\":\"ACTIVE\",\"desc\":\"Active\"},\"scope\":{\"value\":\"65SMU_INST\",\"desc\":\"Singapore Management University (SMU)\"},\"role_type\":{\"value\":\"200\",\"desc\":\"Patron\"},\"parameter\":[]},{\"status\":{\"value\":\"ACTIVE\",\"desc\":\"Active\"},\"scope\":{\"value\":\"65SMU_INST\",\"desc\":\"Singapore Management University (SMU)\"},\"role_type\":{\"value\":\"240\",\"desc\":\"Instructor\"},\"parameter\":[]},{\"status\":{\"value\":\"ACTIVE\",\"desc\":\"Active\"},\"scope\":{\"value\":\"65SMU_INST\",\"desc\":\"Singapore Management University (SMU)\"},\"role_type\":{\"value\":\"2200\",\"desc\":\"Analytics Administrator\"},\"parameter\":[]},{\"status\":{\"value\":\"ACTIVE\",\"desc\":\"Active\"},\"scope\":{\"value\":\"65SMU_INST\",\"desc\":\"Singapore Management University (SMU)\"},\"role_type\":{\"value\":\"220\",\"desc\":\"Designs Analytics\"},\"parameter\":[]}],\"user_block\":[],\"user_note\":[{\"note_type\":{\"value\":\"LIBRARY\",\"desc\":\"Library\"},\"note_text\":\"CUR CHKOUT: 0\",\"user_viewable\":false,\"popup_note\":false,\"created_by\":\"EX_LIBRIS\",\"created_date\":\"2011-05-19T10:59:00Z\",\"segment_type\":\"Internal\"},{\"note_type\":{\"value\":\"OTHER\",\"desc\":\"Other\"},\"note_text\":\"CL RTRND: 0\",\"user_viewable\":true,\"popup_note\":false,\"created_by\":\"EX_LIBRIS\",\"created_date\":\"2011-05-19T10:59:00Z\",\"segment_type\":\"Internal\"}],\"user_statistic\":[{\"statistic_category\":{\"value\":\"OTHERS\",\"desc\":\"Others\"},\"category_type\":{\"value\":\"PRI_ORGUNIT\",\"desc\":\"Primary Org Unit / Department\"},\"statistic_note\":\"Technology & Innovation (50016121)\",\"segment_type\":\"External\"}],\"proxy_for_user\":[]}'"
      ]
     },
     "execution_count": 6,
     "metadata": {},
     "output_type": "execute_result"
    }
   ],
   "source": [
    "getPatronDetails('50000954',API)"
   ]
  },
  {
   "cell_type": "code",
   "execution_count": 7,
   "id": "gorgeous-investment",
   "metadata": {},
   "outputs": [
    {
     "data": {
      "text/plain": [
       "'{\"total_record_count\":0,\"total_sum\":0.0,\"currency\":null}'"
      ]
     },
     "execution_count": 7,
     "metadata": {},
     "output_type": "execute_result"
    }
   ],
   "source": [
    "getFines('50000954',API)"
   ]
  },
  {
   "cell_type": "code",
   "execution_count": 8,
   "id": "whole-rates",
   "metadata": {},
   "outputs": [
    {
     "ename": "NameError",
     "evalue": "name 'getLoans' is not defined",
     "output_type": "error",
     "traceback": [
      "\u001b[0;31m---------------------------------------------------------------------------\u001b[0m",
      "\u001b[0;31mNameError\u001b[0m                                 Traceback (most recent call last)",
      "\u001b[0;32m<ipython-input-8-9c3d3727b073>\u001b[0m in \u001b[0;36m<module>\u001b[0;34m\u001b[0m\n\u001b[0;32m----> 1\u001b[0;31m \u001b[0mgetLoans\u001b[0m\u001b[0;34m(\u001b[0m\u001b[0;34m'50000954'\u001b[0m\u001b[0;34m,\u001b[0m\u001b[0mAPI\u001b[0m\u001b[0;34m)\u001b[0m\u001b[0;34m\u001b[0m\u001b[0;34m\u001b[0m\u001b[0m\n\u001b[0m",
      "\u001b[0;31mNameError\u001b[0m: name 'getLoans' is not defined"
     ]
    }
   ],
   "source": [
    "getLoans('50000954',API)"
   ]
  },
  {
   "cell_type": "code",
   "execution_count": 9,
   "id": "filled-subject",
   "metadata": {},
   "outputs": [
    {
     "data": {
      "text/plain": [
       "{'title': 'The design of everyday things /',\n",
       " 'author': 'Norman, Donald A.,',\n",
       " 'call_number': 'TS171.4 .N67 2013',\n",
       " 'isbn': '0-465-05065-4',\n",
       " 'complete_edition': 'Revised and expanded edition.',\n",
       " 'mms_id': '99348869702601',\n",
       " 'holding_id': '22101609750002601',\n",
       " 'item_pid': '23101609740002601',\n",
       " 'booking_availability': 0}"
      ]
     },
     "execution_count": 9,
     "metadata": {},
     "output_type": "execute_result"
    }
   ],
   "source": [
    "getResourceDetails('U00105455I', API)"
   ]
  },
  {
   "cell_type": "code",
   "execution_count": null,
   "id": "timely-doctor",
   "metadata": {},
   "outputs": [],
   "source": []
  },
  {
   "cell_type": "code",
   "execution_count": 10,
   "id": "greatest-vegetarian",
   "metadata": {},
   "outputs": [
    {
     "data": {
      "text/plain": [
       "{'title': 'Accounting /',\n",
       " 'author': 'Horngren, Charles T.,',\n",
       " 'call_number': 'HF5635 .H85 1995',\n",
       " 'isbn': '0133121909 (pbk.)',\n",
       " 'complete_edition': '3rd ed.',\n",
       " 'mms_id': '99661002601',\n",
       " 'holding_id': '2267427920002601',\n",
       " 'item_pid': '2335149840002601',\n",
       " 'booking_availability': 0}"
      ]
     },
     "execution_count": 10,
     "metadata": {},
     "output_type": "execute_result"
    }
   ],
   "source": [
    "getResourceDetails('B14075552G', API)"
   ]
  },
  {
   "cell_type": "code",
   "execution_count": null,
   "id": "strange-grocery",
   "metadata": {},
   "outputs": [],
   "source": []
  }
 ],
 "metadata": {
  "kernelspec": {
   "display_name": "Python 3",
   "language": "python",
   "name": "python3"
  },
  "language_info": {
   "codemirror_mode": {
    "name": "ipython",
    "version": 3
   },
   "file_extension": ".py",
   "mimetype": "text/x-python",
   "name": "python",
   "nbconvert_exporter": "python",
   "pygments_lexer": "ipython3",
   "version": "3.9.1"
  }
 },
 "nbformat": 4,
 "nbformat_minor": 5
}
